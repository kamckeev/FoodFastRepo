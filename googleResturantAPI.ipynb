{
 "cells": [
  {
   "cell_type": "markdown",
   "metadata": {},
   "source": [
    "# Google API Map"
   ]
  },
  {
   "cell_type": "code",
   "execution_count": null,
   "metadata": {},
   "outputs": [],
   "source": [
    "# Dependencies\n",
    "import requests\n",
    "import json\n",
    "import pandas as pd\n",
    "from pandas.io.json import json_normalize \n",
    "\n",
    "# Google developer API key\n",
    "from config import gkey "
   ]
  },
  {
   "cell_type": "code",
   "execution_count": 4,
   "metadata": {},
   "outputs": [],
   "source": [
    " # geocoordinates\n",
    "    #center-point: William Peace University\n",
    "    # 35.7895° N, 78.6374° W\n",
    "target_coordinates = \"35.7895, -78.6374\"\n",
    "target_search = \"fast+food\"\n",
    "#20mi radius\n",
    "target_radius = 40000\n",
    "target_type = \"restaurant\"\n",
    "\n",
    "# set up a parameters dictionary\n",
    "params = {\n",
    "    \"location\": target_coordinates,\n",
    "    \"keyword\": target_search,\n",
    "    \"radius\": target_radius,\n",
    "    \"type\": target_type,\n",
    "    \"key\": gkey\n",
    "}\n",
    "\n",
    "# base url\n",
    "base_url = \"https://maps.googleapis.com/maps/api/place/nearbysearch/json\"\n",
    "\n",
    "# run a request using our params dictionary\n",
    "response = requests.get(base_url, params=params)"
   ]
  },
  {
   "cell_type": "code",
   "execution_count": 10,
   "metadata": {},
   "outputs": [],
   "source": [
    " # print the response url, avoid doing for public github repos in order to avoid exposing key\n",
    "# print(response.url)"
   ]
  },
  {
   "cell_type": "code",
   "execution_count": 6,
   "metadata": {},
   "outputs": [
    {
     "name": "stdout",
     "output_type": "stream",
     "text": [
      "                                             geometry  \\\n",
      "0   {'location': {'lat': 35.7724071, 'lng': -78.63...   \n",
      "1   {'location': {'lat': 35.7844859, 'lng': -78.68...   \n",
      "2   {'location': {'lat': 35.818479, 'lng': -78.625...   \n",
      "3   {'location': {'lat': 35.9668836, 'lng': -78.95...   \n",
      "4   {'location': {'lat': 35.785243, 'lng': -78.687...   \n",
      "5   {'location': {'lat': 35.8374723, 'lng': -78.61...   \n",
      "6   {'location': {'lat': 35.7981176, 'lng': -78.57...   \n",
      "7   {'location': {'lat': 35.8236229, 'lng': -78.58...   \n",
      "8   {'location': {'lat': 35.8053497, 'lng': -78.81...   \n",
      "9   {'location': {'lat': 35.7366805, 'lng': -78.65...   \n",
      "10  {'location': {'lat': 35.7802029, 'lng': -78.62...   \n",
      "11  {'location': {'lat': 35.78417719999999, 'lng':...   \n",
      "12  {'location': {'lat': 35.8751948, 'lng': -78.54...   \n",
      "13  {'location': {'lat': 36.0212199, 'lng': -78.95...   \n",
      "14  {'location': {'lat': 35.78479859999999, 'lng':...   \n",
      "15  {'location': {'lat': 35.7642108, 'lng': -78.74...   \n",
      "16  {'location': {'lat': 35.8380714, 'lng': -78.85...   \n",
      "17  {'location': {'lat': 35.9100255, 'lng': -79.07...   \n",
      "18  {'location': {'lat': 36.05014, 'lng': -78.9037...   \n",
      "19  {'location': {'lat': 35.880663, 'lng': -78.850...   \n",
      "\n",
      "                                                 icon  \\\n",
      "0   https://maps.gstatic.com/mapfiles/place_api/ic...   \n",
      "1   https://maps.gstatic.com/mapfiles/place_api/ic...   \n",
      "2   https://maps.gstatic.com/mapfiles/place_api/ic...   \n",
      "3   https://maps.gstatic.com/mapfiles/place_api/ic...   \n",
      "4   https://maps.gstatic.com/mapfiles/place_api/ic...   \n",
      "5   https://maps.gstatic.com/mapfiles/place_api/ic...   \n",
      "6   https://maps.gstatic.com/mapfiles/place_api/ic...   \n",
      "7   https://maps.gstatic.com/mapfiles/place_api/ic...   \n",
      "8   https://maps.gstatic.com/mapfiles/place_api/ic...   \n",
      "9   https://maps.gstatic.com/mapfiles/place_api/ic...   \n",
      "10  https://maps.gstatic.com/mapfiles/place_api/ic...   \n",
      "11  https://maps.gstatic.com/mapfiles/place_api/ic...   \n",
      "12  https://maps.gstatic.com/mapfiles/place_api/ic...   \n",
      "13  https://maps.gstatic.com/mapfiles/place_api/ic...   \n",
      "14  https://maps.gstatic.com/mapfiles/place_api/ic...   \n",
      "15  https://maps.gstatic.com/mapfiles/place_api/ic...   \n",
      "16  https://maps.gstatic.com/mapfiles/place_api/ic...   \n",
      "17  https://maps.gstatic.com/mapfiles/place_api/ic...   \n",
      "18  https://maps.gstatic.com/mapfiles/place_api/ic...   \n",
      "19  https://maps.gstatic.com/mapfiles/place_api/ic...   \n",
      "\n",
      "                                          id            name  \\\n",
      "0   8c27c6b4eea555fe94ee9b5831d72d12d868e5cb      McDonald's   \n",
      "1   6adec02ca4e8fb14ef2c0a9024a22a004ef51831         Wendy's   \n",
      "2   834c5f3c0ef2931089d7d26de323d18740088a3b          Arby's   \n",
      "3   1465c835ec7685e2134bd0875ab0907cb0fa0d82        Cook Out   \n",
      "4   3d4fe1dec43faa8ad4947a8cd8ee59631bbb3eb7      McDonald's   \n",
      "5   9f16e837344c8fe18efd36e0c0a80371a15c63a6         Wendy's   \n",
      "6   a0ebfa486a45729bd205f475a3d4769b9de1ce4f         Wendy's   \n",
      "7   b8bc2e81b167a39518c80c02d47d3af85d58f212        Cook Out   \n",
      "8   276ec85e89c4b7ca708726852e7c31aa9937fca6         Wendy's   \n",
      "9   c34c1735402214cf6b93de1d576acf7f999f241d        Cook Out   \n",
      "10  b681d068ef723b91cdffd1718ced7dc58997978c        Cook Out   \n",
      "11  6a0ee314509c71742fab44c467803ef04475229c  Sonic Drive-In   \n",
      "12  49123230f3d009743f6b965c6d9123fd2e34e5d2         Wendy's   \n",
      "13  da19b34cd75c5f0c673d6686e08d057f40aea903         Wendy's   \n",
      "14  7fc9f6e0bf0f1ff0ae7745673df0664d1eaf8693        Cook Out   \n",
      "15  bab4abefaf17c9249d0b1f54702de89dce6d8a06        Cook Out   \n",
      "16  e6800ace6d614271557e3f2f5a2622be3b5934b7         Wendy's   \n",
      "17  24403186805407e7b86eff90a58d798d2a58e930         Wendy's   \n",
      "18  5e54e0241bbe5649c30927f714405998230ba505        Cook Out   \n",
      "19  8c9171661c7edfec681b99385151a8101b250d18         Wendy's   \n",
      "\n",
      "         opening_hours                                             photos  \\\n",
      "0   {'open_now': True}  [{'height': 768, 'html_attributions': ['<a hre...   \n",
      "1   {'open_now': True}  [{'height': 4032, 'html_attributions': ['<a hr...   \n",
      "2   {'open_now': True}  [{'height': 4032, 'html_attributions': ['<a hr...   \n",
      "3   {'open_now': True}  [{'height': 3840, 'html_attributions': ['<a hr...   \n",
      "4   {'open_now': True}  [{'height': 768, 'html_attributions': ['<a hre...   \n",
      "5   {'open_now': True}  [{'height': 459, 'html_attributions': ['<a hre...   \n",
      "6   {'open_now': True}  [{'height': 5344, 'html_attributions': ['<a hr...   \n",
      "7   {'open_now': True}  [{'height': 3024, 'html_attributions': ['<a hr...   \n",
      "8   {'open_now': True}  [{'height': 459, 'html_attributions': ['<a hre...   \n",
      "9   {'open_now': True}  [{'height': 3120, 'html_attributions': ['<a hr...   \n",
      "10  {'open_now': True}  [{'height': 3024, 'html_attributions': ['<a hr...   \n",
      "11  {'open_now': True}  [{'height': 1080, 'html_attributions': ['<a hr...   \n",
      "12  {'open_now': True}  [{'height': 1920, 'html_attributions': ['<a hr...   \n",
      "13  {'open_now': True}  [{'height': 3264, 'html_attributions': ['<a hr...   \n",
      "14  {'open_now': True}  [{'height': 4032, 'html_attributions': ['<a hr...   \n",
      "15  {'open_now': True}  [{'height': 4032, 'html_attributions': ['<a hr...   \n",
      "16  {'open_now': True}  [{'height': 1836, 'html_attributions': ['<a hr...   \n",
      "17  {'open_now': True}  [{'height': 459, 'html_attributions': ['<a hre...   \n",
      "18  {'open_now': True}  [{'height': 563, 'html_attributions': ['<a hre...   \n",
      "19  {'open_now': True}  [{'height': 3120, 'html_attributions': ['<a hr...   \n",
      "\n",
      "                       place_id  \\\n",
      "0   ChIJT63WdHRfrIkRG1TJz7--NHM   \n",
      "1   ChIJCbqPArv1rIkREXoptEFTddg   \n",
      "2   ChIJgXowl89YrIkRaW5xgCnfCp8   \n",
      "3   ChIJC2tsBl_mrIkR6ZszZSBsn8g   \n",
      "4   ChIJV9iaqrv1rIkRSrKjooXe96Q   \n",
      "5   ChIJrWku-OJYrIkRjQHJWXk7GHI   \n",
      "6   ChIJPaNrYq5erIkRTY09pBnfEaY   \n",
      "7   ChIJ5ceF9EBZrIkRDSVObvUyepc   \n",
      "8   ChIJZa7zez_yrIkRNcXT3k10Udw   \n",
      "9   ChIJT_LMsfBfrIkRuQgyi2edei0   \n",
      "10  ChIJT2-_bBpfrIkRhS1denodAAk   \n",
      "11  ChIJ_1RW6Fz0rIkRd91ktc8jg0A   \n",
      "12  ChIJr4d-d21arIkRBXVZecVx_vk   \n",
      "13  ChIJNarD4TfhrIkRQdWiidyS7Y0   \n",
      "14  ChIJeRF-T7D1rIkRQjhfbuXucI4   \n",
      "15  ChIJFQYlhmLzrIkRbweps6Df-2s   \n",
      "16  ChIJJREARgzurIkRAEl8DOXRjyM   \n",
      "17  ChIJaaaL3BvDrIkRk_A_6bb2zZU   \n",
      "18  ChIJPyTiLLXjrIkRCrkwaHHQMbk   \n",
      "19  ChIJWfK9N87vrIkRDn6xl-eQHK4   \n",
      "\n",
      "                                            plus_code  price_level  rating  \\\n",
      "0   {'compound_code': 'Q9C6+XR Raleigh, North Caro...            1     3.2   \n",
      "1   {'compound_code': 'Q8M7+Q2 Raleigh, North Caro...            1     3.3   \n",
      "2   {'compound_code': 'R99F+9W Raleigh, North Caro...            1     4.1   \n",
      "3   {'compound_code': 'X28W+Q5 Durham, North Carol...            1     4.1   \n",
      "4   {'compound_code': 'Q8P6+3R Raleigh, North Caro...            1     2.9   \n",
      "5   {'compound_code': 'R9PP+XG Raleigh, North Caro...            1     3.5   \n",
      "6   {'compound_code': 'QCXF+63 Raleigh, North Caro...            1     3.5   \n",
      "7   {'compound_code': 'RCF7+C3 Raleigh, North Caro...            1     4.3   \n",
      "8   {'compound_code': 'R54Q+43 Morrisville, Cedar ...            1     3.6   \n",
      "9   {'compound_code': 'P8PX+MM Raleigh, North Caro...            1     4.2   \n",
      "10  {'compound_code': 'Q9JH+36 Raleigh, North Caro...            1     4.0   \n",
      "11  {'compound_code': 'Q7MH+MF Raleigh, North Caro...            1     3.2   \n",
      "12  {'compound_code': 'VFG5+3R Raleigh, North Caro...            1     2.7   \n",
      "13  {'compound_code': '22CX+F9 Durham, North Carol...            1     3.7   \n",
      "14  {'compound_code': 'Q8M4+WQ Raleigh, North Caro...            1     4.4   \n",
      "15  {'compound_code': 'Q772+MP Cary, North Carolin...            1     4.3   \n",
      "16  {'compound_code': 'R4QV+68 Morrisville, Cedar ...            1     3.6   \n",
      "17  {'compound_code': 'WW6G+2W Carrboro, Chapel Hi...            1     3.4   \n",
      "18  {'compound_code': '332W+3F Durham, North Carol...            1     4.0   \n",
      "19  {'compound_code': 'V4JX+7J Durham, North Carol...            1     3.7   \n",
      "\n",
      "                      reference   scope  \\\n",
      "0   ChIJT63WdHRfrIkRG1TJz7--NHM  GOOGLE   \n",
      "1   ChIJCbqPArv1rIkREXoptEFTddg  GOOGLE   \n",
      "2   ChIJgXowl89YrIkRaW5xgCnfCp8  GOOGLE   \n",
      "3   ChIJC2tsBl_mrIkR6ZszZSBsn8g  GOOGLE   \n",
      "4   ChIJV9iaqrv1rIkRSrKjooXe96Q  GOOGLE   \n",
      "5   ChIJrWku-OJYrIkRjQHJWXk7GHI  GOOGLE   \n",
      "6   ChIJPaNrYq5erIkRTY09pBnfEaY  GOOGLE   \n",
      "7   ChIJ5ceF9EBZrIkRDSVObvUyepc  GOOGLE   \n",
      "8   ChIJZa7zez_yrIkRNcXT3k10Udw  GOOGLE   \n",
      "9   ChIJT_LMsfBfrIkRuQgyi2edei0  GOOGLE   \n",
      "10  ChIJT2-_bBpfrIkRhS1denodAAk  GOOGLE   \n",
      "11  ChIJ_1RW6Fz0rIkRd91ktc8jg0A     NaN   \n",
      "12  ChIJr4d-d21arIkRBXVZecVx_vk  GOOGLE   \n",
      "13  ChIJNarD4TfhrIkRQdWiidyS7Y0     NaN   \n",
      "14  ChIJeRF-T7D1rIkRQjhfbuXucI4     NaN   \n",
      "15  ChIJFQYlhmLzrIkRbweps6Df-2s  GOOGLE   \n",
      "16  ChIJJREARgzurIkRAEl8DOXRjyM  GOOGLE   \n",
      "17  ChIJaaaL3BvDrIkRk_A_6bb2zZU  GOOGLE   \n",
      "18  ChIJPyTiLLXjrIkRCrkwaHHQMbk  GOOGLE   \n",
      "19  ChIJWfK9N87vrIkRDn6xl-eQHK4  GOOGLE   \n",
      "\n",
      "                                                types  user_ratings_total  \\\n",
      "0   [cafe, restaurant, food, store, point_of_inter...                1012   \n",
      "1   [restaurant, food, point_of_interest, establis...                 932   \n",
      "2   [restaurant, food, point_of_interest, establis...                 304   \n",
      "3   [restaurant, food, point_of_interest, establis...                1154   \n",
      "4   [cafe, restaurant, food, store, point_of_inter...                 931   \n",
      "5   [restaurant, food, point_of_interest, establis...                 523   \n",
      "6   [restaurant, food, point_of_interest, establis...                 653   \n",
      "7   [restaurant, food, point_of_interest, establis...                1459   \n",
      "8   [restaurant, food, point_of_interest, establis...                 269   \n",
      "9   [restaurant, food, point_of_interest, establis...                 929   \n",
      "10  [restaurant, food, point_of_interest, establis...                 623   \n",
      "11  [restaurant, food, store, point_of_interest, e...                 491   \n",
      "12  [restaurant, food, point_of_interest, establis...                 726   \n",
      "13  [restaurant, food, point_of_interest, establis...                 414   \n",
      "14  [restaurant, food, point_of_interest, establis...                1629   \n",
      "15  [restaurant, food, point_of_interest, establis...                1372   \n",
      "16  [restaurant, food, point_of_interest, establis...                 267   \n",
      "17  [restaurant, food, point_of_interest, establis...                 385   \n",
      "18  [restaurant, food, point_of_interest, establis...                 738   \n",
      "19  [restaurant, food, point_of_interest, establis...                 412   \n",
      "\n",
      "                          vicinity  \n",
      "0          105 E South St, Raleigh  \n",
      "1       3715 Western Blvd, Raleigh  \n",
      "2     2601 Wake Forest Rd, Raleigh  \n",
      "3          3119 Shannon Rd, Durham  \n",
      "4       3710 Western Blvd, Raleigh  \n",
      "5     4105 Wake Forest Rd, Raleigh  \n",
      "6       3701 New Bern Ave, Raleigh  \n",
      "7       3244 Capital Blvd, Raleigh  \n",
      "8   2007 NW Cary Pkwy, Morrisville  \n",
      "9    3222 S Wilmington St, Raleigh  \n",
      "10      1201 New Bern Ave, Raleigh  \n",
      "11  109 Jones Franklin Rd, Raleigh  \n",
      "12      7460 Louisburg Rd, Raleigh  \n",
      "13    3527 Hillsborough Rd, Durham  \n",
      "14      3930 Western Blvd, Raleigh  \n",
      "15            1607 Walnut St, Cary  \n",
      "16      4023 Davis Dr, Morrisville  \n",
      "17   100 S Greensboro St, Carrboro  \n",
      "18       4245 N Roxboro St, Durham  \n",
      "19       5402 S Miami Blvd, Durham  \n"
     ]
    }
   ],
   "source": [
    "ff_data = response.json()\n",
    "\n",
    "# # # Print the json (pretty printed)\n",
    "# data=(json.dumps(ff_data, sort_keys=True))\n",
    "# data\n",
    "df=json_normalize(ff_data,'results')\n",
    "# df = json_normalize(d, 'abc')\n",
    "print (df)\n",
    "\n"
   ]
  },
  {
   "cell_type": "code",
   "execution_count": 7,
   "metadata": {
    "scrolled": true
   },
   "outputs": [
    {
     "name": "stdout",
     "output_type": "stream",
     "text": [
      "Empty DataFrame\n",
      "Columns: [geometry, icon, id, name, opening_hours, photos, place_id, plus_code, price_level, rating, reference, scope, types, user_ratings_total, vicinity]\n",
      "Index: []\n"
     ]
    }
   ],
   "source": [
    "df_test = response.json()\n",
    "# print(df_test['results'])\n",
    "df_test = pd.DataFrame(df_test['results'])\n",
    "\n",
    "# print(df_test)\n",
    "\n",
    "print(df_test[:0]) # column names\n"
   ]
  },
  {
   "cell_type": "code",
   "execution_count": 17,
   "metadata": {},
   "outputs": [
    {
     "ename": "ValueError",
     "evalue": "only recognize index or columns for orient",
     "output_type": "error",
     "traceback": [
      "\u001b[1;31m---------------------------------------------------------------------------\u001b[0m",
      "\u001b[1;31mValueError\u001b[0m                                Traceback (most recent call last)",
      "\u001b[1;32m<ipython-input-17-6d4ad26a4361>\u001b[0m in \u001b[0;36m<module>\u001b[1;34m()\u001b[0m\n\u001b[0;32m      1\u001b[0m \u001b[1;31m# ff_df = pd.concat([pd.DataFrame(v) for k,v in ff_data.items()])\u001b[0m\u001b[1;33m\u001b[0m\u001b[1;33m\u001b[0m\u001b[0m\n\u001b[1;32m----> 2\u001b[1;33m \u001b[0mdf\u001b[0m\u001b[1;33m=\u001b[0m \u001b[0mpd\u001b[0m\u001b[1;33m.\u001b[0m\u001b[0mDataFrame\u001b[0m\u001b[1;33m.\u001b[0m\u001b[0mfrom_dict\u001b[0m\u001b[1;33m(\u001b[0m\u001b[0mff_data\u001b[0m\u001b[1;33m,\u001b[0m \u001b[0morient\u001b[0m\u001b[1;33m=\u001b[0m\u001b[1;34m'split'\u001b[0m\u001b[1;33m)\u001b[0m\u001b[1;33m\u001b[0m\u001b[0m\n\u001b[0m",
      "\u001b[1;32mC:\\ProgramData\\Anaconda3\\lib\\site-packages\\pandas\\core\\frame.py\u001b[0m in \u001b[0;36mfrom_dict\u001b[1;34m(cls, data, orient, dtype, columns)\u001b[0m\n\u001b[0;32m    981\u001b[0m                                  \"orient='columns'\")\n\u001b[0;32m    982\u001b[0m         \u001b[1;32melse\u001b[0m\u001b[1;33m:\u001b[0m  \u001b[1;31m# pragma: no cover\u001b[0m\u001b[1;33m\u001b[0m\u001b[0m\n\u001b[1;32m--> 983\u001b[1;33m             \u001b[1;32mraise\u001b[0m \u001b[0mValueError\u001b[0m\u001b[1;33m(\u001b[0m\u001b[1;34m'only recognize index or columns for orient'\u001b[0m\u001b[1;33m)\u001b[0m\u001b[1;33m\u001b[0m\u001b[0m\n\u001b[0m\u001b[0;32m    984\u001b[0m \u001b[1;33m\u001b[0m\u001b[0m\n\u001b[0;32m    985\u001b[0m         \u001b[1;32mreturn\u001b[0m \u001b[0mcls\u001b[0m\u001b[1;33m(\u001b[0m\u001b[0mdata\u001b[0m\u001b[1;33m,\u001b[0m \u001b[0mindex\u001b[0m\u001b[1;33m=\u001b[0m\u001b[0mindex\u001b[0m\u001b[1;33m,\u001b[0m \u001b[0mcolumns\u001b[0m\u001b[1;33m=\u001b[0m\u001b[0mcolumns\u001b[0m\u001b[1;33m,\u001b[0m \u001b[0mdtype\u001b[0m\u001b[1;33m=\u001b[0m\u001b[0mdtype\u001b[0m\u001b[1;33m)\u001b[0m\u001b[1;33m\u001b[0m\u001b[0m\n",
      "\u001b[1;31mValueError\u001b[0m: only recognize index or columns for orient"
     ]
    }
   ],
   "source": [
    "# ff_df = pd.concat([pd.DataFrame(v) for k,v in ff_data.items()])\n",
    "df= pd.DataFrame.from_dict(ff_data, orient='split')"
   ]
  },
  {
   "cell_type": "code",
   "execution_count": 9,
   "metadata": {},
   "outputs": [
    {
     "name": "stdout",
     "output_type": "stream",
     "text": [
      "geometry              {'location': {'lat': 35.7724071, 'lng': -78.63...\n",
      "icon                  https://maps.gstatic.com/mapfiles/place_api/ic...\n",
      "id                             8c27c6b4eea555fe94ee9b5831d72d12d868e5cb\n",
      "name                                                         McDonald's\n",
      "opening_hours                                        {'open_now': True}\n",
      "photos                [{'height': 768, 'html_attributions': ['<a hre...\n",
      "place_id                                    ChIJT63WdHRfrIkRG1TJz7--NHM\n",
      "plus_code             {'compound_code': 'Q9C6+XR Raleigh, North Caro...\n",
      "price_level                                                           1\n",
      "rating                                                              3.2\n",
      "reference                                   ChIJT63WdHRfrIkRG1TJz7--NHM\n",
      "scope                                                            GOOGLE\n",
      "types                 [cafe, restaurant, food, store, point_of_inter...\n",
      "user_ratings_total                                                 1012\n",
      "vicinity                                        105 E South St, Raleigh\n",
      "Name: 0, dtype: object\n"
     ]
    }
   ],
   "source": [
    "print(df_test.loc[0,])"
   ]
  },
  {
   "cell_type": "code",
   "execution_count": 8,
   "metadata": {},
   "outputs": [],
   "source": [
    "#print(df_test.loc[i,'geometry']['location'])\n"
   ]
  },
  {
   "cell_type": "markdown",
   "metadata": {},
   "source": [
    "# Yelp API"
   ]
  },
  {
   "cell_type": "code",
   "execution_count": 2,
   "metadata": {},
   "outputs": [
    {
     "data": {
      "text/plain": [
       "{'business_id': 'xvX2CttrVhyG2z1dFg_0xw',\n",
       " 'name': 'Farmers Insurance - Paul Lorenz',\n",
       " 'address': '15655 W Roosevelt St, Ste 237',\n",
       " 'city': 'Goodyear',\n",
       " 'state': 'AZ',\n",
       " 'postal_code': '85338',\n",
       " 'latitude': 33.4556129678,\n",
       " 'longitude': -112.3955963552,\n",
       " 'stars': 5.0,\n",
       " 'review_count': 3,\n",
       " 'is_open': 1,\n",
       " 'attributes': None,\n",
       " 'categories': 'Insurance, Financial Services',\n",
       " 'hours': {'Monday': '8:0-17:0',\n",
       "  'Tuesday': '8:0-17:0',\n",
       "  'Wednesday': '8:0-17:0',\n",
       "  'Thursday': '8:0-17:0',\n",
       "  'Friday': '8:0-17:0'}}"
      ]
     },
     "execution_count": 2,
     "metadata": {},
     "output_type": "execute_result"
    }
   ],
   "source": [
    "import json\n",
    "import pandas as pd\n",
    "import itertools\n",
    "\n",
    "jsonfile_path = \"business.json\"\n",
    "\n",
    "json_data = [json.loads(line) for line in open(\"business.json\", encoding = \"utf8\")]\n",
    "json_data[3]"
   ]
  },
  {
   "cell_type": "code",
   "execution_count": 12,
   "metadata": {},
   "outputs": [
    {
     "data": {
      "text/html": [
       "<div>\n",
       "<style scoped>\n",
       "    .dataframe tbody tr th:only-of-type {\n",
       "        vertical-align: middle;\n",
       "    }\n",
       "\n",
       "    .dataframe tbody tr th {\n",
       "        vertical-align: top;\n",
       "    }\n",
       "\n",
       "    .dataframe thead th {\n",
       "        text-align: right;\n",
       "    }\n",
       "</style>\n",
       "<table border=\"1\" class=\"dataframe\">\n",
       "  <thead>\n",
       "    <tr style=\"text-align: right;\">\n",
       "      <th></th>\n",
       "      <th>address</th>\n",
       "      <th>attributes</th>\n",
       "      <th>business_id</th>\n",
       "      <th>categories</th>\n",
       "      <th>city</th>\n",
       "      <th>hours</th>\n",
       "      <th>is_open</th>\n",
       "      <th>latitude</th>\n",
       "      <th>longitude</th>\n",
       "      <th>name</th>\n",
       "      <th>postal_code</th>\n",
       "      <th>review_count</th>\n",
       "      <th>stars</th>\n",
       "      <th>state</th>\n",
       "    </tr>\n",
       "  </thead>\n",
       "  <tbody>\n",
       "    <tr>\n",
       "      <th>0</th>\n",
       "      <td>2818 E Camino Acequia Drive</td>\n",
       "      <td>{'GoodForKids': 'False'}</td>\n",
       "      <td>1SWheh84yJXfytovILXOAQ</td>\n",
       "      <td>Golf, Active Life</td>\n",
       "      <td>Phoenix</td>\n",
       "      <td>None</td>\n",
       "      <td>0</td>\n",
       "      <td>33.522143</td>\n",
       "      <td>-112.018481</td>\n",
       "      <td>Arizona Biltmore Golf Club</td>\n",
       "      <td>85016</td>\n",
       "      <td>5</td>\n",
       "      <td>3.0</td>\n",
       "      <td>AZ</td>\n",
       "    </tr>\n",
       "    <tr>\n",
       "      <th>1</th>\n",
       "      <td>30 Eglinton Avenue W</td>\n",
       "      <td>{'RestaurantsReservations': 'True', 'GoodForMe...</td>\n",
       "      <td>QXAEGFB4oINsVuTFxEYKFQ</td>\n",
       "      <td>Specialty Food, Restaurants, Dim Sum, Imported...</td>\n",
       "      <td>Mississauga</td>\n",
       "      <td>{'Monday': '9:0-0:0', 'Tuesday': '9:0-0:0', 'W...</td>\n",
       "      <td>1</td>\n",
       "      <td>43.605499</td>\n",
       "      <td>-79.652289</td>\n",
       "      <td>Emerald Chinese Restaurant</td>\n",
       "      <td>L5R 3E7</td>\n",
       "      <td>128</td>\n",
       "      <td>2.5</td>\n",
       "      <td>ON</td>\n",
       "    </tr>\n",
       "  </tbody>\n",
       "</table>\n",
       "</div>"
      ],
      "text/plain": [
       "                       address  \\\n",
       "0  2818 E Camino Acequia Drive   \n",
       "1         30 Eglinton Avenue W   \n",
       "\n",
       "                                          attributes             business_id  \\\n",
       "0                           {'GoodForKids': 'False'}  1SWheh84yJXfytovILXOAQ   \n",
       "1  {'RestaurantsReservations': 'True', 'GoodForMe...  QXAEGFB4oINsVuTFxEYKFQ   \n",
       "\n",
       "                                          categories         city  \\\n",
       "0                                  Golf, Active Life      Phoenix   \n",
       "1  Specialty Food, Restaurants, Dim Sum, Imported...  Mississauga   \n",
       "\n",
       "                                               hours  is_open   latitude  \\\n",
       "0                                               None        0  33.522143   \n",
       "1  {'Monday': '9:0-0:0', 'Tuesday': '9:0-0:0', 'W...        1  43.605499   \n",
       "\n",
       "    longitude                        name postal_code  review_count  stars  \\\n",
       "0 -112.018481  Arizona Biltmore Golf Club       85016             5    3.0   \n",
       "1  -79.652289  Emerald Chinese Restaurant     L5R 3E7           128    2.5   \n",
       "\n",
       "  state  \n",
       "0    AZ  \n",
       "1    ON  "
      ]
     },
     "execution_count": 12,
     "metadata": {},
     "output_type": "execute_result"
    }
   ],
   "source": [
    "df=pd.DataFrame(json_data)\n",
    "df.head(2)"
   ]
  },
  {
   "cell_type": "code",
   "execution_count": 7,
   "metadata": {},
   "outputs": [
    {
     "name": "stdout",
     "output_type": "stream",
     "text": [
      "0    False\n",
      "1    False\n",
      "2     True\n",
      "3    False\n",
      "4     True\n",
      "Name: state, dtype: bool\n"
     ]
    }
   ],
   "source": [
    "NC_df =  df['state']=='NC'\n",
    "print(NC_df.head())"
   ]
  },
  {
   "cell_type": "code",
   "execution_count": 9,
   "metadata": {},
   "outputs": [
    {
     "name": "stdout",
     "output_type": "stream",
     "text": [
      "(14720, 14)\n"
     ]
    }
   ],
   "source": [
    "NC_business_all = df[NC_df]\n",
    "print(NC_business_all.shape)"
   ]
  },
  {
   "cell_type": "code",
   "execution_count": null,
   "metadata": {},
   "outputs": [],
   "source": [
    "NC_business_all.head()"
   ]
  },
  {
   "cell_type": "code",
   "execution_count": 15,
   "metadata": {},
   "outputs": [
    {
     "name": "stdout",
     "output_type": "stream",
     "text": [
      "2     False\n",
      "4     False\n",
      "12    False\n",
      "33    False\n",
      "35    False\n",
      "Name: categories, dtype: bool\n"
     ]
    }
   ],
   "source": [
    "NC_rest=NC_business_all['categories']=='Restaurants'\n",
    "print(NC_rest.head())"
   ]
  },
  {
   "cell_type": "code",
   "execution_count": null,
   "metadata": {},
   "outputs": [],
   "source": []
  }
 ],
 "metadata": {
  "kernelspec": {
   "display_name": "Python 3",
   "language": "python",
   "name": "python3"
  },
  "language_info": {
   "codemirror_mode": {
    "name": "ipython",
    "version": 3
   },
   "file_extension": ".py",
   "mimetype": "text/x-python",
   "name": "python",
   "nbconvert_exporter": "python",
   "pygments_lexer": "ipython3",
   "version": "3.7.0"
  }
 },
 "nbformat": 4,
 "nbformat_minor": 2
}
